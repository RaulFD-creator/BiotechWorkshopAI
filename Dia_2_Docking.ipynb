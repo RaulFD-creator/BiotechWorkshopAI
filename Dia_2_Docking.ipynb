{
  "cells": [
    {
      "cell_type": "markdown",
      "metadata": {
        "id": "6rEBfD-oMArX"
      },
      "source": [
        "# Sesión 2: Modelos que aprenden farmocología\n",
        "\n",
        "En esta sesión utilizaremos `smina` y `diffdock`para realizar el docking sobre una GPCR (PDB id:6A93)\n",
        "\n",
        "\n",
        "*   Redocking: Son capaces los modelos de replicar los datos experimentales (cristal)\n",
        "*   Docking con 5 ligandos: Vamos a ver según los modelos cuál es mas probable que se una con mayor afinidad.\n",
        "\n",
        "## Redocking\n",
        "### Docking clasico `smina`\n",
        "\n",
        "Primero vamos a instalar el programa\n",
        "\n"
      ]
    },
    {
      "cell_type": "code",
      "execution_count": null,
      "metadata": {
        "colab": {
          "base_uri": "https://localhost:8080/"
        },
        "id": "rc-iAdvyM7Dl",
        "outputId": "c4fd8065-4c4d-4e70-ab29-67f9bbeae7b4"
      },
      "outputs": [],
      "source": [
        "# @title Instalar smina\n",
        "# Instalando y cargando dependencias\n",
        "\n",
        "!pip install -q condacolab --quiet\n",
        "import condacolab\n",
        "condacolab.install()\n",
        "!conda install conda-forge::openbabel -y --quiet\n",
        "!pip install py3dmol --quiet # 3D Molecular Visualizer\n",
        "!pip install rdkit --quiet\n",
        "!pip install biopython --quiet\n",
        "!pip install MDAnalysis --quiet\n",
        "!pip install pandas --quiet\n",
        "# Instalando smina\n",
        "\n",
        "!wget https://sourceforge.net/projects/smina/files/smina.static/download -O smina.static\n",
        "!chmod u+x smina.static\n",
        "!./smina.static"
      ]
    },
    {
      "cell_type": "markdown",
      "metadata": {
        "id": "38PQ7cqcNA-h"
      },
      "source": [
        "Descargamos el cristal del PDB."
      ]
    },
    {
      "cell_type": "code",
      "execution_count": null,
      "metadata": {
        "colab": {
          "base_uri": "https://localhost:8080/"
        },
        "id": "N6XYIJJbM_Xe",
        "outputId": "3a831c3c-fb7b-4530-ca39-df99169f979c"
      },
      "outputs": [],
      "source": [
        "!wget http://files.rcsb.org/download/6A93.pdb"
      ]
    },
    {
      "cell_type": "code",
      "execution_count": null,
      "metadata": {
        "id": "p95t5bN2NGJU"
      },
      "outputs": [],
      "source": [
        "!grep \"ATOM.* A \" 6A93.pdb > rec.pdb # Extraemos la proteina\n",
        "!grep \"8NU A\" 6A93.pdb > lig.pdb # Extraemos el ligando"
      ]
    },
    {
      "cell_type": "code",
      "execution_count": null,
      "metadata": {
        "colab": {
          "base_uri": "https://localhost:8080/"
        },
        "id": "pcFC11BvNTQB",
        "outputId": "4137f652-dc55-4489-89e3-2ac7cc9616d3"
      },
      "outputs": [],
      "source": [
        "!obabel rec.pdb -O rec.pdb -p # Añadimos hidrogenos a la proteina a pH fisiologico 7.4\n",
        "!obabel lig.pdb -O lig.pdb -p # Añadimos hidrogenos al ligando"
      ]
    },
    {
      "cell_type": "markdown",
      "metadata": {
        "id": "usupDeyb0Hf4"
      },
      "source": [
        "Vamos a realizar el re-docking ahora con `smina`."
      ]
    },
    {
      "cell_type": "code",
      "execution_count": null,
      "metadata": {
        "colab": {
          "base_uri": "https://localhost:8080/"
        },
        "id": "cT3n9983PVE5",
        "outputId": "1191b79b-c4fd-4355-d988-142851b1eeb2"
      },
      "outputs": [],
      "source": [
        "!./smina.static -r rec.pdb -l lig.pdb --autobox_ligand lig.pdb --autobox_add 8 --exhaustiveness 16 -o redock.pdbqt  --scoring vina # vinardo, ad4_scoring, dkoes_fast, dkoes_scoring"
      ]
    },
    {
      "cell_type": "code",
      "execution_count": null,
      "metadata": {
        "colab": {
          "base_uri": "https://localhost:8080/"
        },
        "id": "tXzd8W9vCgbt",
        "outputId": "c48bd372-df23-4ea6-dfd6-adee67ed891e"
      },
      "outputs": [],
      "source": [
        "!obabel redock.pdbqt -opdb -O redock.pdb"
      ]
    },
    {
      "cell_type": "markdown",
      "metadata": {
        "id": "nl2yq2kQKaUh"
      },
      "source": [
        "Vamos a visualizar ahora los resultados."
      ]
    },
    {
      "cell_type": "code",
      "execution_count": null,
      "metadata": {
        "colab": {
          "base_uri": "https://localhost:8080/",
          "height": 617
        },
        "id": "VWtVAZ6OJxMj",
        "outputId": "dc660f06-225f-4130-9f8c-31b57fc99cd0"
      },
      "outputs": [],
      "source": [
        "import sys\n",
        "sys.path.append('/usr/local/lib/python3.12/site-packages/')\n",
        "import py3Dmol\n",
        "\n",
        "# Function to read PDB file\n",
        "def read_pdb(inputs):\n",
        "    with open(inputs) as ifile:\n",
        "        system = \"\".join([x for x in ifile])\n",
        "    return system\n",
        "\n",
        "# Load protein and reference ligand from PDB files\n",
        "protein_file = 'rec.pdb'\n",
        "reference_ligand_file = 'lig.pdb'\n",
        "dock_file = 'redock.pdb'\n",
        "\n",
        "protein = read_pdb(protein_file)\n",
        "reference = read_pdb(reference_ligand_file)\n",
        "ligands = read_pdb(dock_file)\n",
        "\n",
        "# Initialize py3Dmol viewer\n",
        "viewer = py3Dmol.view(width=800, height=600)\n",
        "\n",
        "# Add protein to viewer\n",
        "viewer.addModel(protein, 'pdb')\n",
        "viewer.setStyle({'model': 0}, {'cartoon': {'color': 'spectrum'}})\n",
        "\n",
        "# Add reference ligand to viewer\n",
        "viewer.addModel(reference, 'pdb')\n",
        "viewer.setStyle({'model': 1}, {'stick': {'color': 'red'}})\n",
        "\n",
        "# Function to add ligand poses dynamically\n",
        "def add_ligand_pose(viewer, ligands, pose_number):\n",
        "    ligand_models = ligands.split('ENDMDL\\n')\n",
        "    if pose_number < len(ligand_models):\n",
        "        viewer.addModel(ligand_models[pose_number], 'pdb')\n",
        "        viewer.setStyle({'model': 2}, {'stick': {}})\n",
        "    else:\n",
        "        print(f'Pose number {pose_number} is out of range. Please select a valid pose number.')\n",
        "\n",
        "# Example usage: dynamically select pose number\n",
        "pose_number = 0  # Change this to the desired pose number\n",
        "add_ligand_pose(viewer, ligands, pose_number)\n",
        "\n",
        "# Zoom to fit all models\n",
        "viewer.zoomTo()\n",
        "\n",
        "# Show the viewer\n",
        "viewer.show()"
      ]
    },
    {
      "cell_type": "markdown",
      "metadata": {
        "id": "jgJ67dIQPzOy"
      },
      "source": [
        "Vamos a ver la diferencia en RMSD entre los resultados de docking."
      ]
    },
    {
      "cell_type": "code",
      "execution_count": null,
      "metadata": {
        "colab": {
          "base_uri": "https://localhost:8080/",
          "height": 564
        },
        "id": "jKbZkw26P52_",
        "outputId": "19dbf4d1-4128-4fae-909c-659adff56ee8"
      },
      "outputs": [],
      "source": [
        "import numpy as np\n",
        "import matplotlib.pyplot as plt\n",
        "# Función para calcular el RMSD\n",
        "def calc_rmsd(coords1, coords2):\n",
        "    diff = coords1 - coords2\n",
        "    return np.sqrt(np.mean(np.sum(diff**2, axis=1)))\n",
        "\n",
        "# Ruta al archivo PDB con varios modelos de docking\n",
        "docking_pdb = 'redock.pdb'\n",
        "\n",
        "# Leer coordenadas del archivo de referencia\n",
        "# Lista para almacenar los valores de RMSD\n",
        "rmsd_values = []\n",
        "\n",
        "# Leer el archivo de docking y calcular RMSD para cada modelo\n",
        "with open(docking_pdb, 'r') as f:\n",
        "    model_coords = []\n",
        "    ref = None\n",
        "    for line in f:\n",
        "        if line.startswith('MODEL'):\n",
        "            if model_coords:\n",
        "                if type(ref)==type(None):\n",
        "                  ref = np.array(model_coords)\n",
        "                rmsd = calc_rmsd(ref, np.array(model_coords))\n",
        "                rmsd_values.append(rmsd)\n",
        "                model_coords = []\n",
        "        elif line.startswith('ATOM') and line[13:14] != 'H':\n",
        "            x = float(line[30:38])\n",
        "            y = float(line[38:46])\n",
        "            z = float(line[46:54])\n",
        "            model_coords.append([x, y, z])\n",
        "    if model_coords:\n",
        "        rmsd = calc_rmsd(ref, np.array(model_coords))\n",
        "        rmsd_values.append(rmsd)\n",
        "\n",
        "# Generar el gráfico\n",
        "plt.figure(figsize=(10, 6))\n",
        "plt.plot(rmsd_values, marker='o', linestyle='-', color='b')\n",
        "plt.xlabel('Modelo de Docking')\n",
        "plt.ylabel('RMSD (Å)')\n",
        "plt.title('RMSD entre los modelos de docking')\n",
        "plt.grid(True)\n",
        "plt.show()"
      ]
    },
    {
      "cell_type": "markdown",
      "metadata": {
        "id": "k4eP4P1uS8Ep"
      },
      "source": [
        "Ahora vamos a hacer lo mismo con `diffdock`. Primero instalaremos el programa."
      ]
    },
    {
      "cell_type": "code",
      "execution_count": null,
      "metadata": {
        "colab": {
          "base_uri": "https://localhost:8080/"
        },
        "id": "1lpG3UqNMewH",
        "outputId": "dade3188-7d27-4451-c529-c59ee02f6038"
      },
      "outputs": [],
      "source": [
        "# @title Instalar diffdock\n",
        "!pip install ipython-autotime --quiet\n",
        "import os\n",
        "\n",
        "\n",
        "if not os.path.exists(\"/content/DiffDock\"):\n",
        "    %cd /content\n",
        "    !git clone https://github.com/gcorso/DiffDock.git\n",
        "    %cd /content/DiffDock\n",
        "    !git checkout a6c5275 # remove/update for more up to date code\n",
        "\n",
        "if not os.path.exists(\"/content/DiffDock/esm\"):\n",
        "    %cd /content/DiffDock\n",
        "    !git clone https://github.com/facebookresearch/esm\n",
        "    %cd /content/DiffDock/esm\n",
        "    !git checkout ca8a710 # remove/update for more up to date code\n",
        "    !sudo pip install -e .\n",
        "\n",
        "%cd /content\n",
        "%env HOME=esm/model_weights\n",
        "%env PYTHONPATH=$PYTHONPATH:/content/DiffDock/esm\n",
        "%env diffdock=/content/DiffDock/inference.py\n",
        "\n",
        "!pip install biopandas --quiet\n",
        "!pip install biopython --quiet\n",
        "\n",
        "!pip install torch==2.5\n",
        "import torch\n",
        "print(torch.__version__)\n",
        "\n",
        "\n",
        "!pip install torch_geometric --quiet\n",
        "!pip install pyg_lib torch_scatter torch_sparse torch_cluster torch_spline_conv -f https://data.pyg.org/whl/torch-2.5.0+cu124.html --quiet\n",
        "!pip install pyyaml --quiet\n",
        "!pip install e3nn --quiet\n",
        "!pip install spyrmsd --quiet\n",
        "\n",
        "%cd /content"
      ]
    },
    {
      "cell_type": "markdown",
      "metadata": {
        "id": "OOL9mLo1c-iZ"
      },
      "source": [
        "Vamos a definir funciones para usar `diffdock`"
      ]
    },
    {
      "cell_type": "code",
      "execution_count": null,
      "metadata": {
        "id": "lAbvHaKMTUWC"
      },
      "outputs": [],
      "source": [
        "import os\n",
        "import requests\n",
        "import time\n",
        "from random import random\n",
        "\n",
        "def download_smiles_str(pubchem_id: str, retries:int = 2) -> str:\n",
        "    \"\"\"Given a pubchem id, get a smiles string\"\"\"\n",
        "    while True:\n",
        "        req = requests.get(f\"https://pubchem.ncbi.nlm.nih.gov/rest/pug/compound/CID/{pubchem_id}/property/CanonicalSMILES/CSV\")\n",
        "        smiles_url_csv = req.text if req.status_code == 200 else None\n",
        "        if smiles_url_csv is not None:\n",
        "            break\n",
        "        if retries == 0:\n",
        "            return None\n",
        "        time.sleep(1+random())\n",
        "        retries -= 1\n",
        "\n",
        "    return smiles_url_csv.splitlines()[1].split(',')[1].strip('\"').strip(\"'\") if smiles_url_csv is not None else None"
      ]
    },
    {
      "cell_type": "code",
      "execution_count": null,
      "metadata": {
        "id": "TPL-R36TM2nw"
      },
      "outputs": [],
      "source": [
        "with open(\"/content/input_protein_ligand.csv\", 'w') as out:\n",
        "    out.write(\"protein_path,ligand\\n\")\n",
        "    out.write(f\"/content/rec.pdb,CC1=C(C(=O)N2CCCCC2=N1)CCN3CCC(CC3)C4=NOC5=C4C=CC(=C5)F\\n\") #Smiles de resperidone"
      ]
    },
    {
      "cell_type": "markdown",
      "metadata": {
        "id": "qp4T8O3yeUz_"
      },
      "source": [
        "Vamos a usar DiffDock."
      ]
    },
    {
      "cell_type": "code",
      "execution_count": null,
      "metadata": {
        "colab": {
          "base_uri": "https://localhost:8080/"
        },
        "id": "w5E1C8tOeSwg",
        "outputId": "f008ee69-cace-4174-99b7-1043fbb80603"
      },
      "outputs": [],
      "source": [
        "# @title Preparar archivos para Diffdock\n",
        "%cd /content/DiffDock\n",
        "!python datasets/esm_embedding_preparation.py --protein_ligand_csv /content/input_protein_ligand.csv --out_file data/prepared_for_esm.fasta\n",
        "%env HOME=esm/model_weights\n",
        "%env PYTHONPATH=$PYTHONPATH:/content/DiffDock/esm\n",
        "!python /content/DiffDock/esm/scripts/extract.py esm2_t33_650M_UR50D data/prepared_for_esm.fasta data/esm2_output --repr_layers 33 --include per_tok --truncation_seq_length 30000"
      ]
    },
    {
      "cell_type": "code",
      "execution_count": null,
      "metadata": {
        "colab": {
          "base_uri": "https://localhost:8080/",
          "height": 833,
          "referenced_widgets": [
            "acb13eec0dc440268bf82771cba1ad5d",
            "40bbdb3fc6ce4ca3a4dae66896b695e2",
            "3d5f2a70b24641d89e9b2c8caafec4e6",
            "ef0de371e4634990b03cb893f2dd9a8c",
            "efde249885104f65913c390fe5c1adfa",
            "e75a4a08bd3c4129890a65dd1f6ccd33",
            "66010d91f8ef47c287b7b0914d7ef0dd",
            "13aa11adf6ec41a6b8bbec276df797c5",
            "2c152394d6eb4be98c84c591354d62c6",
            "755ad7abbe584e6da8671127955417dc",
            "c7056549dac04a929b9cfddab03a60d6"
          ]
        },
        "id": "8krbas5TFfSC",
        "outputId": "0c7d7642-bf9c-4dfd-e18b-1250336c32e7"
      },
      "outputs": [],
      "source": [
        "# @title Usando Diffdock\n",
        "%cd /content/DiffDock\n",
        "!python -m inference --protein_ligand_csv /content/input_protein_ligand.csv --out_dir results/user_predictions_small --inference_steps 10 --samples_per_complex 9 --batch_size 1\n",
        "\n",
        "import re\n",
        "import pandas as pd\n",
        "from glob import glob\n",
        "from shlex import quote\n",
        "from datetime import datetime\n",
        "from tqdm.auto import tqdm\n",
        "from google.colab import files\n",
        "\n",
        "%cd /content/DiffDock/results/user_predictions_small\n",
        "results_dirs = glob(\"./index*\")\n",
        "\n",
        "rows = []\n",
        "for results_dir in tqdm(results_dirs, desc=\"runs\"):\n",
        "    results_smiles = re.findall(\"pdb_+(.+)\", results_dir)[0]\n",
        "    results_sdfs = [os.path.join('/content/DiffDock/results/user_predictions_small', results_dir, f) for f in os.listdir(results_dir) if \"confidence\" in f and f.endswith(\".sdf\")]\n",
        "\n",
        "rank = [int(sdf.split('/')[-1].split('_')[0].strip('rank')) for sdf in results_sdfs]\n",
        "ordered_rank = np.argsort(rank)\n",
        "\n",
        "print(ordered_rank)"
      ]
    },
    {
      "cell_type": "code",
      "execution_count": null,
      "metadata": {
        "colab": {
          "base_uri": "https://localhost:8080/",
          "height": 634
        },
        "id": "qi97nOuZorhr",
        "outputId": "f5f9bcbd-0aeb-47a6-851b-6cc7aea32084"
      },
      "outputs": [],
      "source": [
        "# Load protein and reference ligand from PDB files\n",
        "\n",
        "%cd /content\n",
        "for result in results_sdfs:\n",
        "  name = result.split('/')[-1][:5]\n",
        "  command = f\"obabel -isdf '{result}' -opdb -O {name}.pdb\"\n",
        "  os.system(command)\n",
        "\n",
        "protein_file = 'rec.pdb'\n",
        "reference_ligand_file = 'lig.pdb'\n",
        "dock_file=\"rank1.pdb\"\n",
        "\n",
        "protein = read_pdb(protein_file)\n",
        "reference = read_pdb(reference_ligand_file)\n",
        "ligands = read_pdb(dock_file)\n",
        "\n",
        "# Initialize py3Dmol viewer\n",
        "viewer = py3Dmol.view(width=800, height=600)\n",
        "\n",
        "# Add protein to viewer\n",
        "viewer.addModel(protein, 'pdb')\n",
        "viewer.setStyle({'model': 0}, {'cartoon': {'color': 'spectrum'}})\n",
        "\n",
        "# Add reference ligand to viewer\n",
        "viewer.addModel(reference, 'pdb')\n",
        "viewer.setStyle({'model': 1}, {'stick': {'color': 'red'}})\n",
        "\n",
        "\n",
        "\n",
        "viewer.addModel(ligands, 'pdb')\n",
        "viewer.setStyle({'model': 2}, {'stick': {}})\n",
        "\n",
        "\n",
        "\n",
        "# Zoom to fit all models\n",
        "viewer.zoomTo()\n",
        "\n",
        "# Show the viewer\n",
        "viewer.show()"
      ]
    },
    {
      "cell_type": "markdown",
      "metadata": {
        "id": "4SmF7lYSH0BR"
      },
      "source": [
        "## Docking 5 candidatos\n",
        "Vamos a realizar docking con 5 candidatos clasicamente con `smina` y con `diffdock`. Los farmármacos van a ser risperidona, haloperidol, 5-hydroxytryptamine, aripiprazol y caripracina."
      ]
    },
    {
      "cell_type": "code",
      "execution_count": null,
      "metadata": {
        "colab": {
          "base_uri": "https://localhost:8080/"
        },
        "id": "8kK10vT8Futr",
        "outputId": "b4044832-f63c-4d16-87f8-f02d93c68336"
      },
      "outputs": [],
      "source": [
        "%cd /content/\n",
        "ligandos = ['risperidona', 'haloperidol', '5ht', 'aripiprazol', 'caripracina']\n",
        "smiles = ['CC1=C(C(=O)N2CCCCC2=N1)CCN3CCC(CC3)C4=NOC5=C4C=CC(=C5)F',\n",
        "          'C1CN(CCC1(C2=CC=C(C=C2)Cl)O)CCCC(=O)C3=CC=C(C=C3)F',\n",
        "          'C1=CC2=C(C=C1O)C(=CN2)CCN',\n",
        "          'C1CC(=O)NC2=C1C=CC(=C2)OCCCCN3CCN(CC3)C4=C(C(=CC=C4)Cl)Cl',\n",
        "          'CN(C)C(=O)NC1CCC(CC1)CCN2CCN(CC2)C3=C(C(=CC=C3)Cl)Cl',\n",
        "          ]\n",
        "\n",
        "# Preparamos el input the diffdock\n",
        "with open(\"/content/input_protein_ligand.csv\", 'w') as out:\n",
        "    out.write(\"protein_path,ligand\\n\")\n",
        "    for lig in smiles:\n",
        "      out.write(f\"/content/rec.pdb,{lig}\\n\") #Smiles de resperidone\n",
        "\n",
        "# Docking con smina\n",
        "\n",
        "\n",
        "for lig, smi in zip(ligandos, smiles):\n",
        "    with open(f\"{lig}.smi\", 'w') as f:\n",
        "      f.write(smi)\n",
        "    command = f\"obabel -ismi {lig}.smi -opdb -O {lig}.pdb -p --gen3d\"\n",
        "    os.system(command)\n",
        "\n",
        "    # run smina\n",
        "    command = f\"./smina.static -r rec.pdb -l {lig}.pdb --autobox_ligand lig.pdb --autobox_add 8 --exhaustiveness 16 -o {lig}.pdbqt  --scoring vina > {lig}.out\" # vinardo, ad4_scoring, dkoes_fast, dkoes_scoring\n",
        "    os.system(command)\n"
      ]
    },
    {
      "cell_type": "markdown",
      "metadata": {
        "id": "ybgaOwOc43iw"
      },
      "source": [
        "Vamos a hacer un plot de los resultados de `smina`."
      ]
    },
    {
      "cell_type": "code",
      "execution_count": null,
      "metadata": {
        "colab": {
          "base_uri": "https://localhost:8080/",
          "height": 487
        },
        "id": "QY3AOIcUv-Xf",
        "outputId": "8665a611-d092-49d2-d87d-758a2becf54f"
      },
      "outputs": [],
      "source": [
        "import re\n",
        "import numpy as np\n",
        "\n",
        "def parse_smina_output(file):\n",
        "    with open(file, \"r\") as f:\n",
        "        file_content=f.read()\n",
        "    # Expresión regular para coincidir con la información de scoring\n",
        "    score_pattern = re.compile(r'^\\d+\\s+(-?\\d+\\.\\d+)\\s+(\\d+\\.\\d+)\\s+(\\d+\\.\\d+)\\s*$')\n",
        "    scores = []\n",
        "    # Iterar sobre cada línea en el contenido del archivo\n",
        "    for line in file_content.split('\\n'):\n",
        "        match = score_pattern.match(line)\n",
        "        if match:\n",
        "            scores.append(float(match.group(1)))\n",
        "\n",
        "    return scores\n",
        "\n",
        "\n",
        "# Diccionario para almacenar los scores\n",
        "scores = {}\n",
        "\n",
        "# Iterar sobre los archivos de salida en la carpeta\n",
        "for lig in ligandos:\n",
        "      scores[lig] = parse_smina_output(f\"{lig}.out\")\n",
        "\n",
        "# Crear el gráfico de barras\n",
        "fig, ax = plt.subplots()\n",
        "molecules = list(scores.keys())\n",
        "all_scores = [scores[molecule] for molecule in molecules]\n",
        "offset = np.array([-0.4, -0.3, -0.2, -0.1, 0, 0.1, 0.2, 0.3, 0.4])\n",
        "\n",
        "# Crear barras para cada molécula\n",
        "for i, molecule_scores in enumerate(all_scores):\n",
        "    ax.bar(offset+i, molecule_scores, 0.1)\n",
        "\n",
        "ax.set_xlabel('Molécula')\n",
        "ax.set_ylabel('Score')\n",
        "ax.set_title('Scores de Docking por Molécula')\n",
        "ax.set_xticks(range(0,5))\n",
        "ax.set_xticklabels(scores.keys())\n",
        "\n",
        "plt.xticks(rotation=45)\n",
        "plt.tight_layout()\n",
        "plt.show()"
      ]
    },
    {
      "cell_type": "markdown",
      "metadata": {
        "id": "vbD8LiYQ57oU"
      },
      "source": [
        "Ahora vamos a hacer lo mismo con `DiffDock`."
      ]
    },
    {
      "cell_type": "code",
      "execution_count": null,
      "metadata": {
        "colab": {
          "base_uri": "https://localhost:8080/",
          "height": 1000,
          "referenced_widgets": [
            "7128f0d5b1974469838d366a9be5bd4f",
            "b6889728f48e4af2af72163b4604d353",
            "efe8a9dfb3da4aad884c593f3c46819a",
            "36fcd3cd9ab54a4f98106b7699724da4",
            "30d66a9e02e44f04a6ee9d8bb0c53e08",
            "5f1fefee8347430b81469f10816bd4d0",
            "ee867618564848fa97ddff7c9a3906e8",
            "cfcb969d559142828094e6f33e00e2ef",
            "6f256ec26a8441579392e71318a43f41",
            "cceb60ef78d24abea33ed39c185a2b73",
            "63917023c8194686bd2205dddf6ece7d"
          ]
        },
        "id": "rKFSeBsI6AaG",
        "outputId": "31051a6e-1124-442b-8ca7-8e464b0af56d"
      },
      "outputs": [],
      "source": [
        "# @title Correr DiffDock\n",
        "%cd /content/DiffDock\n",
        "!python datasets/esm_embedding_preparation.py --protein_ligand_csv /content/input_protein_ligand.csv --out_file data/prepared_for_esm.fasta\n",
        "%env HOME=esm/model_weights\n",
        "%env PYTHONPATH=$PYTHONPATH:/content/DiffDock/esm\n",
        "!python /content/DiffDock/esm/scripts/extract.py esm2_t33_650M_UR50D data/prepared_for_esm.fasta data/esm2_output --repr_layers 33 --include per_tok --truncation_seq_length 30000\n",
        "%cd /content/DiffDock\n",
        "!python -m inference --protein_ligand_csv /content/input_protein_ligand.csv --out_dir results/5_ligands --inference_steps 10 --samples_per_complex 10 --batch_size 5\n",
        "\n",
        "import re\n",
        "import pandas as pd\n",
        "from glob import glob\n",
        "from shlex import quote\n",
        "from datetime import datetime\n",
        "from tqdm.auto import tqdm\n",
        "from google.colab import files\n",
        "\n",
        "%cd /content/DiffDock/results/5_ligands\n",
        "results_dirs = glob(\"./index*\")\n",
        "\n",
        "rows = []\n",
        "for results_dir in tqdm(results_dirs, desc=\"runs\"):\n",
        "    # results_pdb_file = \"/tmp/pdb/\" + re.findall(\"tmp-pdb-(.+\\.pdb)\", results_dir)[0]\n",
        "    results_smiles = re.findall(\"pdb_+(.+)\", results_dir)[0]\n",
        "    results_sdfs = [os.path.join('/content/DiffDock/results/5_ligands', results_dir, f) for f in os.listdir(results_dir) if \"confidence\" in f and f.endswith(\".sdf\")]\n",
        "\n",
        "rank = [int(sdf.split('/')[-1].split('_')[0].strip('rank')) for sdf in results_sdfs]\n",
        "ordered_rank = np.argsort(rank)\n"
      ]
    },
    {
      "cell_type": "code",
      "execution_count": null,
      "metadata": {
        "colab": {
          "base_uri": "https://localhost:8080/"
        },
        "id": "YL4xd6rH6Azf",
        "outputId": "388455a8-f075-49ea-cfd8-cefcb031bfba"
      },
      "outputs": [],
      "source": [
        "%cd /content\n",
        "for result in results_sdfs:\n",
        "  name = result.split('/')[-1][:5]\n",
        "  lig = result.split('/')[-2][:6]\n",
        "  command = f\"obabel -isdf '{result}' -opdb -O {lig}_{name}.pdb\"\n",
        "  os.system(command)"
      ]
    },
    {
      "cell_type": "code",
      "execution_count": null,
      "metadata": {
        "colab": {
          "base_uri": "https://localhost:8080/",
          "height": 356
        },
        "id": "75Lk3McdeGYe",
        "outputId": "66e6b150-5484-4e8b-dbbd-df4e2f0a441c"
      },
      "outputs": [],
      "source": [
        "import shutil\n",
        "from google.colab import files\n",
        "\n",
        "# Specify the folder you want to zip\n",
        "folder_to_zip = '/content'  # Replace with your folder name\n",
        "\n",
        "# Create a zip file\n",
        "shutil.make_archive(folder_to_zip, 'zip', folder_to_zip)\n",
        "\n",
        "# Download the zip file\n",
        "files.download(f'{folder_to_zip}.zip')"
      ]
    },
    {
      "cell_type": "code",
      "execution_count": null,
      "metadata": {
        "id": "EQnC8H2UefnP"
      },
      "outputs": [],
      "source": []
    }
  ],
  "metadata": {
    "colab": {
      "provenance": []
    },
    "kernelspec": {
      "display_name": "Python 3",
      "name": "python3"
    },
    "language_info": {
      "name": "python"
    },
    "widgets": {
      "application/vnd.jupyter.widget-state+json": {
        "13aa11adf6ec41a6b8bbec276df797c5": {
          "model_module": "@jupyter-widgets/base",
          "model_module_version": "1.2.0",
          "model_name": "LayoutModel",
          "state": {
            "_model_module": "@jupyter-widgets/base",
            "_model_module_version": "1.2.0",
            "_model_name": "LayoutModel",
            "_view_count": null,
            "_view_module": "@jupyter-widgets/base",
            "_view_module_version": "1.2.0",
            "_view_name": "LayoutView",
            "align_content": null,
            "align_items": null,
            "align_self": null,
            "border": null,
            "bottom": null,
            "display": null,
            "flex": null,
            "flex_flow": null,
            "grid_area": null,
            "grid_auto_columns": null,
            "grid_auto_flow": null,
            "grid_auto_rows": null,
            "grid_column": null,
            "grid_gap": null,
            "grid_row": null,
            "grid_template_areas": null,
            "grid_template_columns": null,
            "grid_template_rows": null,
            "height": null,
            "justify_content": null,
            "justify_items": null,
            "left": null,
            "margin": null,
            "max_height": null,
            "max_width": null,
            "min_height": null,
            "min_width": null,
            "object_fit": null,
            "object_position": null,
            "order": null,
            "overflow": null,
            "overflow_x": null,
            "overflow_y": null,
            "padding": null,
            "right": null,
            "top": null,
            "visibility": null,
            "width": null
          }
        },
        "2c152394d6eb4be98c84c591354d62c6": {
          "model_module": "@jupyter-widgets/controls",
          "model_module_version": "1.5.0",
          "model_name": "ProgressStyleModel",
          "state": {
            "_model_module": "@jupyter-widgets/controls",
            "_model_module_version": "1.5.0",
            "_model_name": "ProgressStyleModel",
            "_view_count": null,
            "_view_module": "@jupyter-widgets/base",
            "_view_module_version": "1.2.0",
            "_view_name": "StyleView",
            "bar_color": null,
            "description_width": ""
          }
        },
        "30d66a9e02e44f04a6ee9d8bb0c53e08": {
          "model_module": "@jupyter-widgets/base",
          "model_module_version": "1.2.0",
          "model_name": "LayoutModel",
          "state": {
            "_model_module": "@jupyter-widgets/base",
            "_model_module_version": "1.2.0",
            "_model_name": "LayoutModel",
            "_view_count": null,
            "_view_module": "@jupyter-widgets/base",
            "_view_module_version": "1.2.0",
            "_view_name": "LayoutView",
            "align_content": null,
            "align_items": null,
            "align_self": null,
            "border": null,
            "bottom": null,
            "display": null,
            "flex": null,
            "flex_flow": null,
            "grid_area": null,
            "grid_auto_columns": null,
            "grid_auto_flow": null,
            "grid_auto_rows": null,
            "grid_column": null,
            "grid_gap": null,
            "grid_row": null,
            "grid_template_areas": null,
            "grid_template_columns": null,
            "grid_template_rows": null,
            "height": null,
            "justify_content": null,
            "justify_items": null,
            "left": null,
            "margin": null,
            "max_height": null,
            "max_width": null,
            "min_height": null,
            "min_width": null,
            "object_fit": null,
            "object_position": null,
            "order": null,
            "overflow": null,
            "overflow_x": null,
            "overflow_y": null,
            "padding": null,
            "right": null,
            "top": null,
            "visibility": null,
            "width": null
          }
        },
        "36fcd3cd9ab54a4f98106b7699724da4": {
          "model_module": "@jupyter-widgets/controls",
          "model_module_version": "1.5.0",
          "model_name": "HTMLModel",
          "state": {
            "_dom_classes": [],
            "_model_module": "@jupyter-widgets/controls",
            "_model_module_version": "1.5.0",
            "_model_name": "HTMLModel",
            "_view_count": null,
            "_view_module": "@jupyter-widgets/controls",
            "_view_module_version": "1.5.0",
            "_view_name": "HTMLView",
            "description": "",
            "description_tooltip": null,
            "layout": "IPY_MODEL_cceb60ef78d24abea33ed39c185a2b73",
            "placeholder": "​",
            "style": "IPY_MODEL_63917023c8194686bd2205dddf6ece7d",
            "value": " 5/5 [00:00&lt;00:00, 274.05it/s]"
          }
        },
        "3d5f2a70b24641d89e9b2c8caafec4e6": {
          "model_module": "@jupyter-widgets/controls",
          "model_module_version": "1.5.0",
          "model_name": "FloatProgressModel",
          "state": {
            "_dom_classes": [],
            "_model_module": "@jupyter-widgets/controls",
            "_model_module_version": "1.5.0",
            "_model_name": "FloatProgressModel",
            "_view_count": null,
            "_view_module": "@jupyter-widgets/controls",
            "_view_module_version": "1.5.0",
            "_view_name": "ProgressView",
            "bar_style": "success",
            "description": "",
            "description_tooltip": null,
            "layout": "IPY_MODEL_13aa11adf6ec41a6b8bbec276df797c5",
            "max": 1,
            "min": 0,
            "orientation": "horizontal",
            "style": "IPY_MODEL_2c152394d6eb4be98c84c591354d62c6",
            "value": 1
          }
        },
        "40bbdb3fc6ce4ca3a4dae66896b695e2": {
          "model_module": "@jupyter-widgets/controls",
          "model_module_version": "1.5.0",
          "model_name": "HTMLModel",
          "state": {
            "_dom_classes": [],
            "_model_module": "@jupyter-widgets/controls",
            "_model_module_version": "1.5.0",
            "_model_name": "HTMLModel",
            "_view_count": null,
            "_view_module": "@jupyter-widgets/controls",
            "_view_module_version": "1.5.0",
            "_view_name": "HTMLView",
            "description": "",
            "description_tooltip": null,
            "layout": "IPY_MODEL_e75a4a08bd3c4129890a65dd1f6ccd33",
            "placeholder": "​",
            "style": "IPY_MODEL_66010d91f8ef47c287b7b0914d7ef0dd",
            "value": "runs: 100%"
          }
        },
        "5f1fefee8347430b81469f10816bd4d0": {
          "model_module": "@jupyter-widgets/base",
          "model_module_version": "1.2.0",
          "model_name": "LayoutModel",
          "state": {
            "_model_module": "@jupyter-widgets/base",
            "_model_module_version": "1.2.0",
            "_model_name": "LayoutModel",
            "_view_count": null,
            "_view_module": "@jupyter-widgets/base",
            "_view_module_version": "1.2.0",
            "_view_name": "LayoutView",
            "align_content": null,
            "align_items": null,
            "align_self": null,
            "border": null,
            "bottom": null,
            "display": null,
            "flex": null,
            "flex_flow": null,
            "grid_area": null,
            "grid_auto_columns": null,
            "grid_auto_flow": null,
            "grid_auto_rows": null,
            "grid_column": null,
            "grid_gap": null,
            "grid_row": null,
            "grid_template_areas": null,
            "grid_template_columns": null,
            "grid_template_rows": null,
            "height": null,
            "justify_content": null,
            "justify_items": null,
            "left": null,
            "margin": null,
            "max_height": null,
            "max_width": null,
            "min_height": null,
            "min_width": null,
            "object_fit": null,
            "object_position": null,
            "order": null,
            "overflow": null,
            "overflow_x": null,
            "overflow_y": null,
            "padding": null,
            "right": null,
            "top": null,
            "visibility": null,
            "width": null
          }
        },
        "63917023c8194686bd2205dddf6ece7d": {
          "model_module": "@jupyter-widgets/controls",
          "model_module_version": "1.5.0",
          "model_name": "DescriptionStyleModel",
          "state": {
            "_model_module": "@jupyter-widgets/controls",
            "_model_module_version": "1.5.0",
            "_model_name": "DescriptionStyleModel",
            "_view_count": null,
            "_view_module": "@jupyter-widgets/base",
            "_view_module_version": "1.2.0",
            "_view_name": "StyleView",
            "description_width": ""
          }
        },
        "66010d91f8ef47c287b7b0914d7ef0dd": {
          "model_module": "@jupyter-widgets/controls",
          "model_module_version": "1.5.0",
          "model_name": "DescriptionStyleModel",
          "state": {
            "_model_module": "@jupyter-widgets/controls",
            "_model_module_version": "1.5.0",
            "_model_name": "DescriptionStyleModel",
            "_view_count": null,
            "_view_module": "@jupyter-widgets/base",
            "_view_module_version": "1.2.0",
            "_view_name": "StyleView",
            "description_width": ""
          }
        },
        "6f256ec26a8441579392e71318a43f41": {
          "model_module": "@jupyter-widgets/controls",
          "model_module_version": "1.5.0",
          "model_name": "ProgressStyleModel",
          "state": {
            "_model_module": "@jupyter-widgets/controls",
            "_model_module_version": "1.5.0",
            "_model_name": "ProgressStyleModel",
            "_view_count": null,
            "_view_module": "@jupyter-widgets/base",
            "_view_module_version": "1.2.0",
            "_view_name": "StyleView",
            "bar_color": null,
            "description_width": ""
          }
        },
        "7128f0d5b1974469838d366a9be5bd4f": {
          "model_module": "@jupyter-widgets/controls",
          "model_module_version": "1.5.0",
          "model_name": "HBoxModel",
          "state": {
            "_dom_classes": [],
            "_model_module": "@jupyter-widgets/controls",
            "_model_module_version": "1.5.0",
            "_model_name": "HBoxModel",
            "_view_count": null,
            "_view_module": "@jupyter-widgets/controls",
            "_view_module_version": "1.5.0",
            "_view_name": "HBoxView",
            "box_style": "",
            "children": [
              "IPY_MODEL_b6889728f48e4af2af72163b4604d353",
              "IPY_MODEL_efe8a9dfb3da4aad884c593f3c46819a",
              "IPY_MODEL_36fcd3cd9ab54a4f98106b7699724da4"
            ],
            "layout": "IPY_MODEL_30d66a9e02e44f04a6ee9d8bb0c53e08"
          }
        },
        "755ad7abbe584e6da8671127955417dc": {
          "model_module": "@jupyter-widgets/base",
          "model_module_version": "1.2.0",
          "model_name": "LayoutModel",
          "state": {
            "_model_module": "@jupyter-widgets/base",
            "_model_module_version": "1.2.0",
            "_model_name": "LayoutModel",
            "_view_count": null,
            "_view_module": "@jupyter-widgets/base",
            "_view_module_version": "1.2.0",
            "_view_name": "LayoutView",
            "align_content": null,
            "align_items": null,
            "align_self": null,
            "border": null,
            "bottom": null,
            "display": null,
            "flex": null,
            "flex_flow": null,
            "grid_area": null,
            "grid_auto_columns": null,
            "grid_auto_flow": null,
            "grid_auto_rows": null,
            "grid_column": null,
            "grid_gap": null,
            "grid_row": null,
            "grid_template_areas": null,
            "grid_template_columns": null,
            "grid_template_rows": null,
            "height": null,
            "justify_content": null,
            "justify_items": null,
            "left": null,
            "margin": null,
            "max_height": null,
            "max_width": null,
            "min_height": null,
            "min_width": null,
            "object_fit": null,
            "object_position": null,
            "order": null,
            "overflow": null,
            "overflow_x": null,
            "overflow_y": null,
            "padding": null,
            "right": null,
            "top": null,
            "visibility": null,
            "width": null
          }
        },
        "acb13eec0dc440268bf82771cba1ad5d": {
          "model_module": "@jupyter-widgets/controls",
          "model_module_version": "1.5.0",
          "model_name": "HBoxModel",
          "state": {
            "_dom_classes": [],
            "_model_module": "@jupyter-widgets/controls",
            "_model_module_version": "1.5.0",
            "_model_name": "HBoxModel",
            "_view_count": null,
            "_view_module": "@jupyter-widgets/controls",
            "_view_module_version": "1.5.0",
            "_view_name": "HBoxView",
            "box_style": "",
            "children": [
              "IPY_MODEL_40bbdb3fc6ce4ca3a4dae66896b695e2",
              "IPY_MODEL_3d5f2a70b24641d89e9b2c8caafec4e6",
              "IPY_MODEL_ef0de371e4634990b03cb893f2dd9a8c"
            ],
            "layout": "IPY_MODEL_efde249885104f65913c390fe5c1adfa"
          }
        },
        "b6889728f48e4af2af72163b4604d353": {
          "model_module": "@jupyter-widgets/controls",
          "model_module_version": "1.5.0",
          "model_name": "HTMLModel",
          "state": {
            "_dom_classes": [],
            "_model_module": "@jupyter-widgets/controls",
            "_model_module_version": "1.5.0",
            "_model_name": "HTMLModel",
            "_view_count": null,
            "_view_module": "@jupyter-widgets/controls",
            "_view_module_version": "1.5.0",
            "_view_name": "HTMLView",
            "description": "",
            "description_tooltip": null,
            "layout": "IPY_MODEL_5f1fefee8347430b81469f10816bd4d0",
            "placeholder": "​",
            "style": "IPY_MODEL_ee867618564848fa97ddff7c9a3906e8",
            "value": "runs: 100%"
          }
        },
        "c7056549dac04a929b9cfddab03a60d6": {
          "model_module": "@jupyter-widgets/controls",
          "model_module_version": "1.5.0",
          "model_name": "DescriptionStyleModel",
          "state": {
            "_model_module": "@jupyter-widgets/controls",
            "_model_module_version": "1.5.0",
            "_model_name": "DescriptionStyleModel",
            "_view_count": null,
            "_view_module": "@jupyter-widgets/base",
            "_view_module_version": "1.2.0",
            "_view_name": "StyleView",
            "description_width": ""
          }
        },
        "cceb60ef78d24abea33ed39c185a2b73": {
          "model_module": "@jupyter-widgets/base",
          "model_module_version": "1.2.0",
          "model_name": "LayoutModel",
          "state": {
            "_model_module": "@jupyter-widgets/base",
            "_model_module_version": "1.2.0",
            "_model_name": "LayoutModel",
            "_view_count": null,
            "_view_module": "@jupyter-widgets/base",
            "_view_module_version": "1.2.0",
            "_view_name": "LayoutView",
            "align_content": null,
            "align_items": null,
            "align_self": null,
            "border": null,
            "bottom": null,
            "display": null,
            "flex": null,
            "flex_flow": null,
            "grid_area": null,
            "grid_auto_columns": null,
            "grid_auto_flow": null,
            "grid_auto_rows": null,
            "grid_column": null,
            "grid_gap": null,
            "grid_row": null,
            "grid_template_areas": null,
            "grid_template_columns": null,
            "grid_template_rows": null,
            "height": null,
            "justify_content": null,
            "justify_items": null,
            "left": null,
            "margin": null,
            "max_height": null,
            "max_width": null,
            "min_height": null,
            "min_width": null,
            "object_fit": null,
            "object_position": null,
            "order": null,
            "overflow": null,
            "overflow_x": null,
            "overflow_y": null,
            "padding": null,
            "right": null,
            "top": null,
            "visibility": null,
            "width": null
          }
        },
        "cfcb969d559142828094e6f33e00e2ef": {
          "model_module": "@jupyter-widgets/base",
          "model_module_version": "1.2.0",
          "model_name": "LayoutModel",
          "state": {
            "_model_module": "@jupyter-widgets/base",
            "_model_module_version": "1.2.0",
            "_model_name": "LayoutModel",
            "_view_count": null,
            "_view_module": "@jupyter-widgets/base",
            "_view_module_version": "1.2.0",
            "_view_name": "LayoutView",
            "align_content": null,
            "align_items": null,
            "align_self": null,
            "border": null,
            "bottom": null,
            "display": null,
            "flex": null,
            "flex_flow": null,
            "grid_area": null,
            "grid_auto_columns": null,
            "grid_auto_flow": null,
            "grid_auto_rows": null,
            "grid_column": null,
            "grid_gap": null,
            "grid_row": null,
            "grid_template_areas": null,
            "grid_template_columns": null,
            "grid_template_rows": null,
            "height": null,
            "justify_content": null,
            "justify_items": null,
            "left": null,
            "margin": null,
            "max_height": null,
            "max_width": null,
            "min_height": null,
            "min_width": null,
            "object_fit": null,
            "object_position": null,
            "order": null,
            "overflow": null,
            "overflow_x": null,
            "overflow_y": null,
            "padding": null,
            "right": null,
            "top": null,
            "visibility": null,
            "width": null
          }
        },
        "e75a4a08bd3c4129890a65dd1f6ccd33": {
          "model_module": "@jupyter-widgets/base",
          "model_module_version": "1.2.0",
          "model_name": "LayoutModel",
          "state": {
            "_model_module": "@jupyter-widgets/base",
            "_model_module_version": "1.2.0",
            "_model_name": "LayoutModel",
            "_view_count": null,
            "_view_module": "@jupyter-widgets/base",
            "_view_module_version": "1.2.0",
            "_view_name": "LayoutView",
            "align_content": null,
            "align_items": null,
            "align_self": null,
            "border": null,
            "bottom": null,
            "display": null,
            "flex": null,
            "flex_flow": null,
            "grid_area": null,
            "grid_auto_columns": null,
            "grid_auto_flow": null,
            "grid_auto_rows": null,
            "grid_column": null,
            "grid_gap": null,
            "grid_row": null,
            "grid_template_areas": null,
            "grid_template_columns": null,
            "grid_template_rows": null,
            "height": null,
            "justify_content": null,
            "justify_items": null,
            "left": null,
            "margin": null,
            "max_height": null,
            "max_width": null,
            "min_height": null,
            "min_width": null,
            "object_fit": null,
            "object_position": null,
            "order": null,
            "overflow": null,
            "overflow_x": null,
            "overflow_y": null,
            "padding": null,
            "right": null,
            "top": null,
            "visibility": null,
            "width": null
          }
        },
        "ee867618564848fa97ddff7c9a3906e8": {
          "model_module": "@jupyter-widgets/controls",
          "model_module_version": "1.5.0",
          "model_name": "DescriptionStyleModel",
          "state": {
            "_model_module": "@jupyter-widgets/controls",
            "_model_module_version": "1.5.0",
            "_model_name": "DescriptionStyleModel",
            "_view_count": null,
            "_view_module": "@jupyter-widgets/base",
            "_view_module_version": "1.2.0",
            "_view_name": "StyleView",
            "description_width": ""
          }
        },
        "ef0de371e4634990b03cb893f2dd9a8c": {
          "model_module": "@jupyter-widgets/controls",
          "model_module_version": "1.5.0",
          "model_name": "HTMLModel",
          "state": {
            "_dom_classes": [],
            "_model_module": "@jupyter-widgets/controls",
            "_model_module_version": "1.5.0",
            "_model_name": "HTMLModel",
            "_view_count": null,
            "_view_module": "@jupyter-widgets/controls",
            "_view_module_version": "1.5.0",
            "_view_name": "HTMLView",
            "description": "",
            "description_tooltip": null,
            "layout": "IPY_MODEL_755ad7abbe584e6da8671127955417dc",
            "placeholder": "​",
            "style": "IPY_MODEL_c7056549dac04a929b9cfddab03a60d6",
            "value": " 1/1 [00:00&lt;00:00, 53.21it/s]"
          }
        },
        "efde249885104f65913c390fe5c1adfa": {
          "model_module": "@jupyter-widgets/base",
          "model_module_version": "1.2.0",
          "model_name": "LayoutModel",
          "state": {
            "_model_module": "@jupyter-widgets/base",
            "_model_module_version": "1.2.0",
            "_model_name": "LayoutModel",
            "_view_count": null,
            "_view_module": "@jupyter-widgets/base",
            "_view_module_version": "1.2.0",
            "_view_name": "LayoutView",
            "align_content": null,
            "align_items": null,
            "align_self": null,
            "border": null,
            "bottom": null,
            "display": null,
            "flex": null,
            "flex_flow": null,
            "grid_area": null,
            "grid_auto_columns": null,
            "grid_auto_flow": null,
            "grid_auto_rows": null,
            "grid_column": null,
            "grid_gap": null,
            "grid_row": null,
            "grid_template_areas": null,
            "grid_template_columns": null,
            "grid_template_rows": null,
            "height": null,
            "justify_content": null,
            "justify_items": null,
            "left": null,
            "margin": null,
            "max_height": null,
            "max_width": null,
            "min_height": null,
            "min_width": null,
            "object_fit": null,
            "object_position": null,
            "order": null,
            "overflow": null,
            "overflow_x": null,
            "overflow_y": null,
            "padding": null,
            "right": null,
            "top": null,
            "visibility": null,
            "width": null
          }
        },
        "efe8a9dfb3da4aad884c593f3c46819a": {
          "model_module": "@jupyter-widgets/controls",
          "model_module_version": "1.5.0",
          "model_name": "FloatProgressModel",
          "state": {
            "_dom_classes": [],
            "_model_module": "@jupyter-widgets/controls",
            "_model_module_version": "1.5.0",
            "_model_name": "FloatProgressModel",
            "_view_count": null,
            "_view_module": "@jupyter-widgets/controls",
            "_view_module_version": "1.5.0",
            "_view_name": "ProgressView",
            "bar_style": "success",
            "description": "",
            "description_tooltip": null,
            "layout": "IPY_MODEL_cfcb969d559142828094e6f33e00e2ef",
            "max": 5,
            "min": 0,
            "orientation": "horizontal",
            "style": "IPY_MODEL_6f256ec26a8441579392e71318a43f41",
            "value": 5
          }
        }
      }
    }
  },
  "nbformat": 4,
  "nbformat_minor": 0
}
